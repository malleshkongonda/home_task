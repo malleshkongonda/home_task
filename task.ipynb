{
  "nbformat": 4,
  "nbformat_minor": 0,
  "metadata": {
    "colab": {
      "provenance": []
    },
    "kernelspec": {
      "name": "python3",
      "display_name": "Python 3"
    },
    "language_info": {
      "name": "python"
    }
  },
  "cells": [
    {
      "cell_type": "code",
      "execution_count": null,
      "metadata": {
        "id": "v7aTO-lNErqw"
      },
      "outputs": [],
      "source": [
        "import cv2\n",
        "\n",
        "def detect_faces(image_path, output_dir):\n",
        "    # Load the image\n",
        "    image = cv2.imread(image_path)\n",
        "    # Convert image to grayscale\n",
        "    gray = cv2.cvtColor(image, cv2.COLOR_BGR2GRAY)\n",
        "    # Load the cascade classifier\n",
        "    face_cascade = cv2.CascadeClassifier('haarcascade_frontalface_default.xml')\n",
        "    # Detect faces\n",
        "    faces = face_cascade.detectMultiScale(gray, scaleFactor=1.1, minNeighbors=5)\n",
        "    # Iterate over the detected faces\n",
        "    for i, (x, y, w, h) in enumerate(faces):\n",
        "        # Crop the face and save it to the specified directory\n",
        "        headshot = image[y:y+h, x:x+w]\n",
        "        cv2.imwrite(output_dir + '/headshot_' + str(i) + '.jpg', headshot)\n",
        "    return len(faces)\n",
        "\n",
        "# Example usage\n",
        "num_of_faces = detect_faces('face_detection_2x.png', 'output')\n",
        "print(\"number of detected faces\", num_of_faces)\n"
      ]
    },
    {
      "cell_type": "code",
      "source": [
        "import boto3\n",
        "from PIL import Image\n",
        "\n",
        "def copy_images(src_bucket_name, dst_bucket_name):\n",
        "    # Create S3 client\n",
        "    s3 = boto3.client('s3')\n",
        "    # Get a list of all image files in the source bucket\n",
        "    result = s3.list_objects(Bucket=src_bucket_name)\n",
        "    image_files = [content['Key'] for content in result.get('Contents', []) if content['Key'].endswith(('jpg','png','jpeg'))]\n",
        "\n",
        "    # Iterate over the image files\n",
        "    for image_file in image_files:\n",
        "        # Download the image file from the source bucket\n",
        "        s3.download_file(src_bucket_name, image_file, '/tmp/'+image_file)\n",
        "        # Open the image file with PIL\n",
        "        with Image.open('/tmp/'+image_file) as img:\n",
        "            # Check if the image file has transparent pixels\n",
        "            if img.mode in ('RGBA', 'LA'):\n",
        "                # Open a file to log the image files with transparent pixels\n",
        "                with open(\"transparent_images.txt\", \"a\") as f:\n",
        "                    f.write(image_file + '\\n')\n",
        "            else:\n",
        "                # Copy the image file to the destination bucket\n",
        "                s3.upload_file('/tmp/'+image_file, dst_bucket_name, image_file)\n",
        "\n",
        "# Example usage\n",
        "copy_images('src-bucket-name', 'dst-bucket-name')\n"
      ],
      "metadata": {
        "id": "FDm75AG7EwJm"
      },
      "execution_count": null,
      "outputs": []
    }
  ]
}